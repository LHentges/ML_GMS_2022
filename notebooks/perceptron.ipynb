{
 "cells": [
  {
   "cell_type": "markdown",
   "id": "a99583ff-6b81-4449-8b38-26d1742ea996",
   "metadata": {},
   "source": [
    "# Build a single neuron perceptron"
   ]
  },
  {
   "cell_type": "markdown",
   "id": "9bf3e8d6-57ee-4e4b-8a31-3f29365152b1",
   "metadata": {},
   "source": [
    "## Step 1: get and format data\n",
    "- Make feature matrix of 100 x 5 (the 4 feature columns from the iris dataset, plus an extra column of ones)\n",
    "- Make target (classification) vector with classes -1 and 1 for the different species\n"
   ]
  },
  {
   "cell_type": "code",
   "execution_count": null,
   "id": "9df7e509-ca9e-4b38-9ab5-c5bb26f3ef81",
   "metadata": {},
   "outputs": [],
   "source": []
  },
  {
   "cell_type": "code",
   "execution_count": null,
   "id": "c75afe10-8e7c-4b64-9607-670a437d5e08",
   "metadata": {},
   "outputs": [],
   "source": []
  },
  {
   "cell_type": "code",
   "execution_count": null,
   "id": "5cd5a05a-3eac-4364-96d0-f49dacf426ed",
   "metadata": {},
   "outputs": [],
   "source": []
  },
  {
   "cell_type": "markdown",
   "id": "412ef10b-0344-4151-8127-4b9e52851a06",
   "metadata": {},
   "source": [
    "## Step 2: Create training loop\n",
    "\n",
    "- Write a loop to go through the feature matrix and multiply (dot product) by an arbitrary weights vector\n"
   ]
  },
  {
   "cell_type": "markdown",
   "id": "87cd66de-3e95-4f73-a2d8-537b9984fa6a",
   "metadata": {},
   "source": [
    "## Step 3: Update weights\n",
    "\n",
    "- Write a function to update the weights vector following the perceptron algorithm (𝑤<sub>𝑗</sub> = 𝑤<sub>𝑗</sub> + ∆𝑤<sub>𝑗</sub>)\n",
    "- Add this to the main loop to have a working perceptron!\n"
   ]
  },
  {
   "cell_type": "code",
   "execution_count": null,
   "id": "a08f74c5-12ea-4ccd-9f5b-56770be525af",
   "metadata": {},
   "outputs": [],
   "source": []
  },
  {
   "cell_type": "code",
   "execution_count": null,
   "id": "7e5b7630-432a-4163-b82f-08568158ff86",
   "metadata": {},
   "outputs": [],
   "source": []
  },
  {
   "cell_type": "code",
   "execution_count": null,
   "id": "b5eeccba-a609-4a75-93ab-0afe690eec61",
   "metadata": {},
   "outputs": [],
   "source": []
  },
  {
   "cell_type": "code",
   "execution_count": null,
   "id": "da1617ad-6243-437e-bef8-57a2d80e1453",
   "metadata": {},
   "outputs": [],
   "source": []
  }
 ],
 "metadata": {
  "kernelspec": {
   "display_name": "Python 3 (ipykernel)",
   "language": "python",
   "name": "python3"
  },
  "language_info": {
   "codemirror_mode": {
    "name": "ipython",
    "version": 3
   },
   "file_extension": ".py",
   "mimetype": "text/x-python",
   "name": "python",
   "nbconvert_exporter": "python",
   "pygments_lexer": "ipython3",
   "version": "3.10.4"
  }
 },
 "nbformat": 4,
 "nbformat_minor": 5
}
